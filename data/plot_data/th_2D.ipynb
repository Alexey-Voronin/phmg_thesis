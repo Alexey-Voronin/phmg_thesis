{
 "cells": [
  {
   "cell_type": "code",
   "execution_count": 1,
   "id": "28634c4f-ddd6-425a-abaa-e7b235ab7e8d",
   "metadata": {},
   "outputs": [],
   "source": [
    "from plotting_scripts import *\n"
   ]
  },
  {
   "cell_type": "code",
   "execution_count": 2,
   "id": "ddd663a7-2b83-427e-a085-7de3bee95e57",
   "metadata": {},
   "outputs": [],
   "source": [
    "pream = \"../data_koelsch/th\"\n",
    "problems = ['ldc2d', 'bfs2d']"
   ]
  },
  {
   "cell_type": "markdown",
   "id": "c6f68dba-dc00-4e60-a730-050b271e9dca",
   "metadata": {},
   "source": [
    "#  hMG"
   ]
  },
  {
   "cell_type": "code",
   "execution_count": 3,
   "id": "bb37f8a7-8603-464a-b227-62da7382c5ab",
   "metadata": {},
   "outputs": [],
   "source": [
    "hmg_data =  {}\n",
    "\n",
    "for problem in problems:\n",
    "    hmg_problem =  {}\n",
    "\n",
    "    for nu in [2,3]: #,4]:\n",
    "        path    = f'{pream}/hmg/{problem}/parallel_p8/V{nu}/results.pkl'\n",
    "        name    = r'$V^{(\\nu_h=%s)}_{h\\textnormal{MG}}$' % rf'{nu}'\n",
    "        \n",
    "        hmg = get_frame(f'{path}')\n",
    "        hmg = hmg[hmg['order'] != 2]\n",
    "        hmg = hmg.reset_index(drop=True)\n",
    "        hmg_problem[name] = hmg\n",
    "    \n",
    "    #plot_all(hmg_problem)\n",
    "    hmg_data[problem] = hmg_problem\n"
   ]
  },
  {
   "cell_type": "markdown",
   "id": "f8b5bc9a-f628-4e06-bc3e-9bd59c183317",
   "metadata": {},
   "source": [
    "# phMG(direct)"
   ]
  },
  {
   "cell_type": "code",
   "execution_count": 4,
   "id": "2426a0f6-5696-4111-b466-b559d3bc96bb",
   "metadata": {},
   "outputs": [
    {
     "name": "stdout",
     "output_type": "stream",
     "text": [
      "$V^{(n_V=1,\\nu_p=\\nu_h=2)}_{ph\\textnormal{MG(direct)}}$\n"
     ]
    },
    {
     "ename": "NameError",
     "evalue": "name 'check_timings' is not defined",
     "output_type": "error",
     "traceback": [
      "\u001b[0;31m---------------------------------------------------------------------------\u001b[0m",
      "\u001b[0;31mNameError\u001b[0m                                 Traceback (most recent call last)",
      "Cell \u001b[0;32mIn[4], line 20\u001b[0m\n\u001b[1;32m     17\u001b[0m         phmg_data[name] \u001b[38;5;241m=\u001b[39m phmg\n\u001b[1;32m     19\u001b[0m         \u001b[38;5;28mprint\u001b[39m(name)\n\u001b[0;32m---> 20\u001b[0m         \u001b[43mcheck_timings\u001b[49m(hmg)\n\u001b[1;32m     22\u001b[0m \u001b[38;5;66;03m#plot_all(phmg_data)\u001b[39;00m\n\u001b[1;32m     23\u001b[0m phmg_direct_data[problem] \u001b[38;5;241m=\u001b[39m phmg_data\n",
      "\u001b[0;31mNameError\u001b[0m: name 'check_timings' is not defined"
     ]
    }
   ],
   "source": [
    "phmg_direct_data =  {}\n",
    "\n",
    "for problem in problems[:]:\n",
    "    phmg_data =  {}\n",
    "\n",
    "    for h_cycles in range(1,3):\n",
    "        for p_sweeps, h_sweeps in [(2,2), (2,3), (3,2), (3,3)]:\n",
    "            path    = f'{pream}/phmg/{problem}/parallel_p8/V{h_cycles}_p{p_sweeps}_h{h_sweeps}/results.pkl'\n",
    "            phmg = get_frame(f'{path}')\n",
    "            phmg = phmg.reset_index(drop=True)\n",
    "            #hmg = hmg[hmg['ref'] == 4]\n",
    "            if p_sweeps == h_sweeps:\n",
    "                name = r'$V^{%s}_{ph\\textnormal{MG(direct)}}$' % rf'(n_V={h_cycles},\\nu_p=\\nu_h={h_sweeps})'\n",
    "            else:\n",
    "                name = r'$V^{%s}_{ph\\textnormal{MG(direct)}}$' % rf'(n_V={h_cycles},\\nu_p={p_sweeps},\\nu_h={h_sweeps})'\n",
    "            \n",
    "            phmg_data[name] = phmg\n",
    "\n",
    "            print(name)\n",
    "            check_timings(hmg)\n",
    "        \n",
    "    #plot_all(phmg_data)\n",
    "    phmg_direct_data[problem] = phmg_data\n",
    "\n"
   ]
  },
  {
   "cell_type": "markdown",
   "id": "57c1f792-b07d-440c-8dc3-a6f9e494875f",
   "metadata": {},
   "source": [
    "# phMG(gradual)"
   ]
  },
  {
   "cell_type": "code",
   "execution_count": null,
   "id": "fc3e1a5b-186b-4418-8702-a2c05d3fe91b",
   "metadata": {},
   "outputs": [],
   "source": [
    "phmg_grad_data =  {}\n",
    "\n",
    "for problem in problems:\n",
    "    phmg_data =  {}\n",
    "\n",
    "    for h_cycles in range(1,3):\n",
    "        for p_sweeps, h_sweeps in [(2,2), (2,3), (3,2), (3,3)]:\n",
    "            path    = f'{pream}/phmg_grad/{problem}/parallel_p8/V{h_cycles}_p{p_sweeps}_h{h_sweeps}/results.pkl'\n",
    "            phmg = get_frame(f'{path}')\n",
    "            phmg = phmg.reset_index(drop=True)\n",
    "            #hmg = hmg[hmg['ref'] == 4]\n",
    "            if p_sweeps == h_sweeps:\n",
    "                name = r'$V^{%s}_{ph\\textnormal{MG(gradual)}}$' % rf'(n_V={h_cycles},\\nu_p=\\nu_h={h_sweeps})'\n",
    "            else:\n",
    "                name = r'$V^{%s}_{ph\\textnormal{MG(gradual)}}$' % rf'(n_V={h_cycles},\\nu_p={p_sweeps},\\nu_h={h_sweeps})'\n",
    "            \n",
    "            phmg_data[name] = phmg\n",
    "\n",
    "            print(name)\n",
    "            check_timings(hmg)\n",
    "    \n",
    "    #plot_all(phmg_data)\n",
    "    phmg_grad_data[problem] = phmg_data\n"
   ]
  },
  {
   "cell_type": "markdown",
   "id": "2e98455c-9eee-40da-8448-1c3c8edbefb8",
   "metadata": {},
   "source": [
    "# All data"
   ]
  },
  {
   "cell_type": "code",
   "execution_count": null,
   "id": "8cef8972-348d-4a1d-99bf-ad733f7d432b",
   "metadata": {},
   "outputs": [],
   "source": [
    "\n",
    "combined_data = {}\n",
    "\n",
    "for problem in problems:\n",
    "    data = {}\n",
    "    \n",
    "    for idata, grab in zip([hmg_data[problem], \n",
    "                            phmg_direct_data[problem],  phmg_direct_data[problem], \n",
    "                            phmg_grad_data[problem], phmg_grad_data[problem]],\n",
    "                           [r'\\nu_h=2',  \n",
    "                            r'(n_V=1,\\nu_p=2,\\nu_h=3)', r'(n_V=2,\\nu_p=\\nu_h=2)', \n",
    "                            r'(n_V=1,\\nu_p=2,\\nu_h=3)', r'(n_V=2,\\nu_p=\\nu_h=2)'\n",
    "                           ]\n",
    "                          ):\n",
    "        for k,v in idata.items():\n",
    "            if grab in k:\n",
    "                data[k] = v\n",
    "    \n",
    "    pdf_pream = f\"th_{problem}\" \n",
    "    \n",
    "    plot_all(data, save_name=f\"th_{problem}\", warm=False)\n",
    "    combined_data[problem] = data"
   ]
  },
  {
   "cell_type": "code",
   "execution_count": null,
   "id": "8f4aed98-c1b3-4135-a86a-2acc406701ba",
   "metadata": {},
   "outputs": [],
   "source": []
  },
  {
   "cell_type": "code",
   "execution_count": null,
   "id": "71bd6774-f365-445f-8126-d011365c6970",
   "metadata": {},
   "outputs": [],
   "source": [
    "from bar_table import plot_fraction\n",
    "\n",
    "    \n",
    "ref = 3\n",
    "names_all = [r'$V^{(\\nu_h=2)}_{h\\textnormal{MG}}$', \n",
    "             r'$V^{(n_V=1,\\nu_p=2,\\nu_h=3)}_{ph\\textnormal{MG(direct)}}$', \n",
    "             r'$V^{(n_V=1,\\nu_p=2,\\nu_h=3)}_{ph\\textnormal{MG(gradual)}}$']\n",
    "\n",
    "\n",
    "for msh_type, data in combined_data.items():\n",
    "    data_dict = {}\n",
    "    for name in names_all:\n",
    "        tmp = data[name]\n",
    "        data_dict[name] = tmp[tmp['ref'] == ref]\n",
    "    \n",
    "    tmp = plot_fraction(data_dict, f\"th_{msh_type}_ref{ref}\", th_disc=False)\n",
    "    "
   ]
  },
  {
   "cell_type": "code",
   "execution_count": null,
   "id": "0d785805-7c59-424b-ad9a-8cc0bb008ec5",
   "metadata": {},
   "outputs": [],
   "source": []
  }
 ],
 "metadata": {
  "kernelspec": {
   "display_name": "Python 3 (ipykernel)",
   "language": "python",
   "name": "python3"
  },
  "language_info": {
   "codemirror_mode": {
    "name": "ipython",
    "version": 3
   },
   "file_extension": ".py",
   "mimetype": "text/x-python",
   "name": "python",
   "nbconvert_exporter": "python",
   "pygments_lexer": "ipython3",
   "version": "3.11.7"
  }
 },
 "nbformat": 4,
 "nbformat_minor": 5
}
